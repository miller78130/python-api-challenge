{
 "cells": [
  {
   "cell_type": "markdown",
   "metadata": {},
   "source": [
    "# WeatherPy\n",
    "----\n",
    "\n",
    "#### Note\n",
    "* Instructions have been included for each segment. You do not have to follow them exactly, but they are included to help you think through the steps."
   ]
  },
  {
   "cell_type": "code",
   "execution_count": 5,
   "metadata": {
    "scrolled": true
   },
   "outputs": [],
   "source": [
    "# Dependencies and Setup\n",
    "import matplotlib.pyplot as plt\n",
    "import pandas as pd\n",
    "import numpy as np\n",
    "import requests\n",
    "import time\n",
    "from scipy.stats import linregress\n",
    "import json\n",
    "import pprint\n",
    "# Import API key\n",
    "from config import wkey\n",
    "\n",
    "# Incorporated citipy to determine city based on latitude and longitude\n",
    "from citipy import citipy\n",
    "\n",
    "# Output File (CSV)\n",
    "output_data_file = \"output_data/cities.csv\"\n",
    "\n",
    "# Range of latitudes and longitudes\n",
    "lat_range = (-90, 90)\n",
    "lng_range = (-180, 180)"
   ]
  },
  {
   "cell_type": "code",
   "execution_count": 6,
   "metadata": {},
   "outputs": [],
   "source": [
    "# Import API Key from a file on your computer\n",
    "\n",
    "# This is an example, need to figure out how to do it\n",
    "\n",
    "#with open('/Users/Mille/Desktop/API Keys/config.py', 'r') as r:\n",
    "    #data=json.load(r)\n",
    "    #gkey=data[0]['gkey']"
   ]
  },
  {
   "cell_type": "markdown",
   "metadata": {},
   "source": [
    "## Generate Cities List"
   ]
  },
  {
   "cell_type": "code",
   "execution_count": 7,
   "metadata": {},
   "outputs": [
    {
     "data": {
      "text/plain": [
       "636"
      ]
     },
     "execution_count": 7,
     "metadata": {},
     "output_type": "execute_result"
    }
   ],
   "source": [
    "# List for holding lat_lngs and cities\n",
    "lat_lngs = []\n",
    "cities = []\n",
    "\n",
    "# Create a set of random lat and lng combinations\n",
    "lats = np.random.uniform(lat_range[0], lat_range[1], size=1500)\n",
    "lngs = np.random.uniform(lng_range[0], lng_range[1], size=1500)\n",
    "lat_lngs = zip(lats, lngs)\n",
    "\n",
    "# Identify nearest city for each lat, lng combination\n",
    "for lat_lng in lat_lngs:\n",
    "    city = citipy.nearest_city(lat_lng[0], lat_lng[1]).city_name\n",
    "    \n",
    "    # If the city is unique, then add it to a our cities list\n",
    "    if city not in cities:\n",
    "        cities.append(city)\n",
    "\n",
    "# Print the city count to confirm sufficient count\n",
    "len(cities)\n"
   ]
  },
  {
   "cell_type": "markdown",
   "metadata": {},
   "source": [
    "### Perform API Calls\n",
    "* Perform a weather check on each city using a series of successive API calls.\n",
    "* Include a print log of each city as it'sbeing processed (with the city number and city name).\n"
   ]
  },
  {
   "cell_type": "code",
   "execution_count": 8,
   "metadata": {
    "scrolled": true
   },
   "outputs": [
    {
     "name": "stdout",
     "output_type": "stream",
     "text": [
      "working on qaanaaq\n",
      "working on samaipata\n",
      "working on lianyuan\n",
      "working on nalut\n",
      "working on acapulco\n",
      "working on mar del plata\n",
      "working on mascote\n",
      "working on punta arenas\n",
      "working on awjilah\n",
      "working on ocos\n",
      "working on dalbandin\n",
      "working on waddan\n",
      "working on nizhneyansk\n",
      "nizhneyansk is missing info\n",
      "working on lata\n",
      "working on herouville-saint-clair\n",
      "working on weligama\n",
      "working on bambous virieux\n",
      "working on taltal\n",
      "working on bluff\n",
      "working on jamestown\n",
      "working on mataura\n",
      "working on waitati\n",
      "working on busselton\n",
      "working on kahului\n",
      "working on upernavik\n",
      "working on carman\n",
      "working on ushuaia\n",
      "working on dikson\n",
      "working on severodvinsk\n",
      "working on jalu\n",
      "working on berlevag\n",
      "working on severomorsk\n",
      "working on norman wells\n",
      "working on khatanga\n",
      "working on luderitz\n",
      "working on hermanus\n",
      "working on fairbanks\n",
      "working on saskylakh\n",
      "working on canico\n",
      "working on nikolskoye\n",
      "working on ginda\n",
      "working on rikitea\n",
      "working on cape town\n",
      "working on port hardy\n",
      "working on saint-francois\n",
      "working on belushya guba\n",
      "belushya guba is missing info\n",
      "working on torbay\n",
      "working on carnarvon\n",
      "working on lucija\n",
      "working on provideniya\n",
      "working on sitka\n",
      "working on kiama\n",
      "working on butaritari\n",
      "working on new norfolk\n",
      "working on asuncion\n",
      "working on mao\n",
      "working on geraldton\n",
      "working on stoyba\n",
      "stoyba is missing info\n",
      "working on los llanos de aridane\n",
      "working on okha\n",
      "working on nisia floresta\n",
      "working on ponoka\n",
      "working on arraial do cabo\n",
      "working on aykhal\n",
      "working on rio gallegos\n",
      "working on souillac\n",
      "working on ellisras\n",
      "working on saint-philippe\n",
      "working on barentsburg\n",
      "barentsburg is missing info\n",
      "working on albany\n",
      "working on kaitangata\n",
      "working on bethel\n",
      "working on cherskiy\n",
      "working on vostok\n",
      "working on taolanaro\n",
      "taolanaro is missing info\n",
      "working on east london\n",
      "working on cedar city\n",
      "working on rocha\n",
      "working on chulym\n",
      "working on sayat\n",
      "working on avarua\n",
      "working on aberdeen\n",
      "working on fortuna\n",
      "working on kade\n",
      "working on vaini\n",
      "working on hobart\n",
      "working on los algarrobos\n",
      "working on beira\n",
      "working on tuktoyaktuk\n",
      "working on maltahohe\n",
      "working on ulladulla\n",
      "working on georgetown\n",
      "working on ribeira grande\n",
      "working on kalat\n",
      "working on kruisfontein\n",
      "working on zabol\n",
      "working on santa\n",
      "working on bolshaya atnya\n",
      "bolshaya atnya is missing info\n",
      "working on freeport\n",
      "working on husavik\n",
      "working on palasa\n",
      "working on carutapera\n",
      "working on campeche\n",
      "working on jackson\n",
      "working on benghazi\n",
      "working on puerto ayora\n",
      "working on port elizabeth\n",
      "working on roebourne\n",
      "working on taoudenni\n",
      "working on ponta do sol\n",
      "working on atuona\n",
      "working on yerbogachen\n",
      "working on saryg-sep\n",
      "working on muhos\n",
      "working on antofagasta\n",
      "working on aswan\n",
      "working on illoqqortoormiut\n",
      "illoqqortoormiut is missing info\n",
      "working on hambantota\n",
      "working on maracai\n",
      "working on bridlington\n",
      "working on cabo san lucas\n",
      "working on lima duarte\n",
      "working on namatanai\n",
      "working on jardim\n",
      "working on lolua\n",
      "lolua is missing info\n",
      "working on port-cartier\n",
      "working on talara\n",
      "working on kibondo\n",
      "working on kavieng\n",
      "working on avera\n",
      "working on nizhneudinsk\n",
      "working on kontagora\n",
      "working on shimoda\n",
      "working on sentyabrskiy\n",
      "sentyabrskiy is missing info\n",
      "working on barrow\n",
      "working on tasiilaq\n",
      "working on thompson\n",
      "working on luganville\n",
      "working on lorengau\n",
      "working on itanhaem\n",
      "working on shenjiamen\n",
      "working on poum\n",
      "working on neftegorsk\n",
      "working on magui\n",
      "magui is missing info\n",
      "working on porto san giorgio\n",
      "working on chuy\n",
      "working on yellowknife\n",
      "working on malatya\n",
      "working on pangnirtung\n",
      "working on porto santo\n",
      "working on leningradskiy\n",
      "working on rabo de peixe\n",
      "working on samusu\n",
      "samusu is missing info\n",
      "working on cidreira\n",
      "working on hithadhoo\n",
      "working on kingsville\n",
      "working on tual\n",
      "working on chokurdakh\n",
      "working on pyay\n",
      "working on half moon bay\n",
      "working on komsomolskoye\n",
      "working on vila velha\n",
      "working on usvyaty\n",
      "working on lincoln\n",
      "working on kavaratti\n",
      "working on bukama\n",
      "working on port augusta\n",
      "working on palmonostora\n",
      "working on airai\n",
      "working on shizunai\n",
      "working on bud\n",
      "working on gorin\n",
      "working on clinton\n",
      "working on port alfred\n",
      "working on walvis bay\n",
      "working on chippewa falls\n",
      "working on hilo\n",
      "working on anzio\n",
      "working on vestmannaeyjar\n",
      "working on palabuhanratu\n",
      "palabuhanratu is missing info\n",
      "working on pemberton\n",
      "working on los chiles\n",
      "working on kapaa\n",
      "working on lamu\n",
      "working on yulara\n",
      "working on jiuquan\n",
      "working on tuatapere\n",
      "working on sao filipe\n",
      "working on noshiro\n",
      "working on guerrero negro\n",
      "working on nuevo progreso\n",
      "working on kelvington\n",
      "working on karaul\n",
      "karaul is missing info\n",
      "working on ixtapa\n",
      "working on henties bay\n",
      "working on kudahuvadhoo\n",
      "working on svetlyy\n",
      "working on grindavik\n",
      "working on kutum\n",
      "working on okandja\n",
      "okandja is missing info\n",
      "working on severo-kurilsk\n",
      "working on altea\n",
      "working on namibe\n",
      "working on skelleftea\n",
      "working on loandjili\n",
      "working on srednekolymsk\n",
      "working on ryotsu\n",
      "working on malwan\n",
      "malwan is missing info\n",
      "working on mitu\n",
      "working on ouesso\n",
      "working on moctezuma\n",
      "working on solovetskiy\n",
      "solovetskiy is missing info\n",
      "working on kodiak\n",
      "working on iqaluit\n",
      "working on saint george\n",
      "working on ambon\n",
      "working on belyy yar\n",
      "working on redcliffe\n",
      "working on astara\n",
      "working on mocuba\n",
      "working on trincomalee\n",
      "working on koygorodok\n",
      "working on muzaffarabad\n",
      "working on catuday\n",
      "working on clyde river\n",
      "working on bara\n",
      "working on tungor\n",
      "working on doka\n",
      "working on charlestown\n",
      "working on faanui\n",
      "working on evensk\n",
      "working on attawapiskat\n",
      "attawapiskat is missing info\n",
      "working on mapiripan\n",
      "working on sankt johann im pongau\n",
      "working on sola\n",
      "working on mahebourg\n",
      "working on vaitupu\n",
      "vaitupu is missing info\n",
      "working on fort morgan\n",
      "working on longyearbyen\n",
      "working on marcona\n",
      "marcona is missing info\n",
      "working on chumikan\n",
      "working on victoria\n",
      "working on wattegama\n",
      "working on gizo\n",
      "working on luyang\n",
      "working on saldanha\n",
      "working on kiunga\n",
      "working on kirakira\n",
      "working on broome\n",
      "working on orlik\n",
      "working on coolum beach\n",
      "working on djambala\n",
      "working on agirish\n",
      "working on te anau\n",
      "working on mazatlan\n",
      "working on bozeman\n",
      "working on batavia\n",
      "working on tulskiy\n",
      "working on raseiniai\n",
      "working on victor harbor\n",
      "working on hovd\n",
      "working on castro\n",
      "working on susangerd\n",
      "working on tilichiki\n",
      "working on vila franca do campo\n",
      "working on dudinka\n",
      "working on waterboro\n",
      "working on nishihara\n",
      "working on santa cruz del sur\n",
      "working on lokosovo\n",
      "working on malanje\n",
      "working on port lincoln\n",
      "working on anadyr\n",
      "working on codrington\n",
      "working on ancud\n",
      "working on cayenne\n",
      "working on longlac\n",
      "longlac is missing info\n",
      "working on ampanihy\n",
      "working on tura\n",
      "working on ocher\n",
      "working on bladel\n",
      "working on denpasar\n",
      "working on gaoyou\n",
      "working on plettenberg bay\n",
      "working on mangai\n",
      "working on powell river\n",
      "working on puerto cabezas\n",
      "working on asau\n",
      "working on bubaque\n",
      "working on pevek\n",
      "working on lazurne\n",
      "working on portland\n",
      "working on san quintin\n",
      "working on storebo\n",
      "working on vao\n",
      "working on porto velho\n",
      "working on sulangan\n",
      "working on baiyin\n",
      "working on ocampo\n",
      "working on erenhot\n",
      "working on mys shmidta\n",
      "mys shmidta is missing info\n",
      "working on dakoro\n",
      "working on skegness\n",
      "working on puerto narino\n",
      "working on inderborskiy\n",
      "inderborskiy is missing info\n",
      "working on sao joao da barra\n",
      "working on ponta delgada\n",
      "working on ahipara\n",
      "working on pisco\n",
      "working on banamba\n",
      "working on southbridge\n",
      "working on viligili\n",
      "viligili is missing info\n",
      "working on ergani\n",
      "working on high level\n",
      "working on katsuura\n",
      "working on graaff-reinet\n",
      "working on boddam\n",
      "working on ob\n",
      "ob is missing info\n",
      "working on botshabelo\n",
      "working on tumannyy\n",
      "tumannyy is missing info\n",
      "working on kisesa\n",
      "working on abastumani\n",
      "working on bredasdorp\n",
      "working on lebu\n",
      "working on shache\n",
      "working on lompoc\n",
      "working on san rafael\n",
      "working on giyon\n",
      "working on mount isa\n",
      "working on iowa city\n",
      "working on kharan\n",
      "working on plouzane\n",
      "working on hearst\n",
      "working on kyren\n",
      "working on abja-paluoja\n",
      "working on indramayu\n",
      "working on twentynine palms\n",
      "working on shetpe\n",
      "working on shellbrook\n",
      "working on ishigaki\n",
      "working on nanortalik\n",
      "working on saleaula\n",
      "saleaula is missing info\n",
      "working on krasnoarmeysk\n",
      "working on chicama\n",
      "working on peruibe\n",
      "working on chernyshevskiy\n",
      "working on ardesen\n",
      "working on puerto del rosario\n",
      "working on sombrerete\n",
      "working on viytivka\n",
      "working on praia da vitoria\n",
      "working on san carlos de bariloche\n",
      "working on pryluky\n",
      "working on poronaysk\n",
      "working on bitung\n",
      "working on atar\n",
      "working on palu\n",
      "working on quatre cocos\n",
      "working on dingle\n",
      "working on strathmore\n",
      "working on marzuq\n",
      "working on jiayuguan\n",
      "working on soyo\n",
      "working on hammerfest\n",
      "working on oksfjord\n",
      "working on phan thiet\n",
      "working on klaksvik\n",
      "working on tsihombe\n",
      "tsihombe is missing info\n",
      "working on minas novas\n",
      "working on mahanoro\n",
      "working on panguna\n",
      "working on flinders\n",
      "working on havoysund\n",
      "working on nyrob\n",
      "working on charleston\n",
      "working on kothen\n",
      "working on kotelnikovo\n",
      "working on lakes entrance\n",
      "working on eidfjord\n",
      "working on wenling\n",
      "working on seoul\n",
      "working on wewak\n",
      "working on neuquen\n",
      "working on ahar\n",
      "working on ostersund\n",
      "working on byron bay\n",
      "working on camargo\n",
      "working on la orilla\n",
      "working on palora\n",
      "working on petropavlovsk-kamchatskiy\n",
      "working on turayf\n",
      "working on okhotsk\n",
      "working on nome\n",
      "working on cuamba\n",
      "working on lexington\n",
      "working on tateyama\n",
      "working on talagang\n",
      "working on bure\n",
      "working on nioro\n",
      "working on adelaide\n",
      "working on kipen\n",
      "working on khovu-aksy\n",
      "working on seymchan\n",
      "working on temaraia\n",
      "temaraia is missing info\n",
      "working on touros\n",
      "working on makakilo city\n",
      "working on buariki\n",
      "buariki is missing info\n",
      "working on colesberg\n",
      "working on hailar\n",
      "working on lalibela\n",
      "working on saint-pierre\n",
      "working on banjar\n",
      "working on el faiyum\n",
      "el faiyum is missing info\n",
      "working on teeli\n",
      "working on xichang\n",
      "working on aklavik\n",
      "working on makaryev\n",
      "working on ko samui\n",
      "working on vangaindrano\n",
      "working on yar-sale\n",
      "working on noumea\n",
      "working on alihe\n",
      "working on nicoya\n",
      "working on amderma\n",
      "amderma is missing info\n",
      "working on vila\n",
      "working on nadrag\n",
      "working on tabas\n",
      "working on kumluca\n",
      "working on meulaboh\n",
      "working on mbini\n",
      "working on nong phai\n",
      "working on igrim\n",
      "working on biak\n",
      "working on salinopolis\n",
      "working on gamba\n",
      "working on singaparna\n",
      "working on egvekinot\n",
      "working on ceres\n",
      "working on mareeba\n",
      "working on naze\n",
      "working on bengkulu\n",
      "working on raudeberg\n",
      "working on papara\n",
      "working on nabire\n",
      "working on narsaq\n",
      "working on yabrud\n",
      "working on ust-nera\n",
      "working on omaruru\n",
      "working on harper\n",
      "working on linqiong\n",
      "working on lagoa\n",
      "working on bonavista\n",
      "working on mossendjo\n",
      "working on xinqing\n",
      "working on brownsville\n",
      "working on baghdad\n",
      "working on palafrugell\n",
      "working on marsa matruh\n",
      "working on tiznit\n",
      "working on north bend\n",
      "working on ascension\n",
      "working on tineo\n",
      "working on constitucion\n",
      "working on katyuzhanka\n",
      "working on palencia\n",
      "working on andenes\n",
      "working on baraki barak\n",
      "working on amberley\n",
      "working on san jose\n",
      "working on sumkino\n",
      "working on matara\n",
      "working on san patricio\n",
      "working on hasaki\n",
      "working on chemainus\n",
      "working on xingyi\n",
      "working on chalmette\n",
      "working on elk city\n",
      "working on stourbridge\n",
      "working on isangel\n",
      "working on khorramshahr\n",
      "working on yaan\n",
      "working on solwezi\n",
      "working on kalabo\n",
      "working on weihai\n",
      "working on rock sound\n",
      "working on korla\n",
      "working on dali\n",
      "working on uniao\n",
      "working on cristalina\n",
      "working on kyzyl-suu\n",
      "working on ucluelet\n",
      "working on santo augusto\n",
      "working on ilulissat\n",
      "working on camapua\n",
      "working on tongling\n",
      "working on talnakh\n",
      "working on vallenar\n",
      "working on umzimvubu\n",
      "umzimvubu is missing info\n",
      "working on ukiah\n",
      "working on miranorte\n",
      "miranorte is missing info\n",
      "working on jaguarao\n",
      "working on shar\n",
      "working on santa marta\n",
      "working on shushenskoye\n",
      "working on buraydah\n",
      "working on miandrivazo\n",
      "working on boke\n",
      "working on funtua\n",
      "working on urumqi\n",
      "working on pochutla\n",
      "working on cockburn town\n",
      "working on mount gambier\n",
      "working on laguna\n",
      "working on ust-tsilma\n",
      "working on price\n",
      "working on stornoway\n",
      "working on skjervoy\n",
      "working on ovalle\n",
      "working on haibowan\n",
      "haibowan is missing info\n",
      "working on tazovskiy\n",
      "working on terbuny\n",
      "working on esperance\n",
      "working on muzhi\n",
      "working on kazerun\n",
      "working on gillette\n",
      "working on sambava\n",
      "working on pallisa\n",
      "working on filadelfia\n",
      "working on baykit\n",
      "working on ambulu\n",
      "working on ambilobe\n",
      "working on glendive\n",
      "working on tiksi\n",
      "working on griffith\n",
      "working on valentin gomez farias\n",
      "working on batticaloa\n",
      "working on ruatoria\n",
      "ruatoria is missing info\n",
      "working on chagda\n",
      "chagda is missing info\n",
      "working on kashan\n",
      "working on leshukonskoye\n",
      "working on cairns\n",
      "working on krasnovishersk\n",
      "working on tawkar\n",
      "tawkar is missing info\n",
      "working on yuanping\n",
      "working on nizhniy tsasuchey\n",
      "working on cooma\n",
      "working on cap-aux-meules\n",
      "working on ardistan\n",
      "ardistan is missing info\n",
      "working on kununurra\n",
      "working on prienai\n",
      "working on san antonio\n",
      "working on hualmay\n",
      "working on grand gaube\n",
      "working on novyy urengoy\n",
      "working on palmer\n",
      "working on salinas\n",
      "working on kyshtovka\n",
      "working on bafra\n",
      "working on ewa beach\n",
      "working on koulamoutou\n",
      "working on tukrah\n",
      "working on morant bay\n",
      "working on bikaner\n",
      "working on port hedland\n",
      "working on upington\n",
      "working on moree\n",
      "working on bairiki\n",
      "working on lalmohan\n",
      "working on tyshkivka\n",
      "working on ostrovnoy\n",
      "working on barawe\n",
      "barawe is missing info\n",
      "working on gravdal\n",
      "working on kuche\n",
      "kuche is missing info\n",
      "working on pedasi\n",
      "working on borogontsy\n",
      "working on pujehun\n",
      "working on qafsah\n",
      "qafsah is missing info\n",
      "working on borshchiv\n",
      "working on beringovskiy\n",
      "working on guane\n",
      "working on halalo\n",
      "halalo is missing info\n",
      "working on akyab\n",
      "working on ola\n",
      "working on nizhnekamsk\n",
      "working on presidencia roque saenz pena\n",
      "working on bourbonnais\n",
      "working on beyneu\n",
      "working on zhangjiakou\n",
      "working on aban\n",
      "working on rio cuarto\n",
      "working on terenga\n",
      "terenga is missing info\n",
      "working on sioux lookout\n",
      "working on katobu\n",
      "working on manitouwadge\n",
      "working on south venice\n",
      "working on vardo\n",
      "working on kalianget\n",
      "working on dunedin\n",
      "working on yaring\n",
      "working on tirumullaivasal\n",
      "working on qasigiannguit\n",
      "working on rolim de moura\n",
      "rolim de moura is missing info\n",
      "working on nieuw amsterdam\n",
      "working on xining\n",
      "working on gujar khan\n",
      "working on paita\n",
      "working on turki\n",
      "working on roma\n",
      "working on tucuman\n",
      "working on alice springs\n",
      "working on kalawit\n",
      "working on oussouye\n",
      "working on victor rosales\n",
      "working on reyes\n",
      "working on mestia\n",
      "working on tezu\n",
      "working on yunjinghong\n",
      "yunjinghong is missing info\n",
      "working on ongandjera\n",
      "working on waingapu\n",
      "working on numata\n",
      "working on oeiras\n",
      "working on shkotovo-22\n",
      "shkotovo-22 is missing info\n",
      "working on itarema\n",
      "working on nemuro\n",
      "working on katherine\n",
      "working on perth\n",
      "working on bathsheba\n",
      "working on almora\n",
      "working on barpeta\n",
      "working on bundaberg\n",
      "working on segezha\n",
      "working on zhigansk\n",
      "working on abnub\n",
      "working on missoula\n",
      "working on sembakung\n",
      "working on blackwater\n"
     ]
    }
   ],
   "source": [
    "#setup the API call\n",
    "url = \"http://api.openweathermap.org/data/2.5/weather?\"\n",
    "units = \"imperial\"\n",
    "q_url = f\"{url}appid={wkey}&units={units}&q=\"\n",
    "\n",
    "#create lists to hold response data\n",
    "lat = []\n",
    "lon = []\n",
    "temp_max = []\n",
    "humidity = []\n",
    "wind_speed = []\n",
    "cloudy = []\n",
    "name = []\n",
    "country = []\n",
    "date = []\n",
    "\n",
    "#my_city = \"New Braunfels\"\n",
    "\n",
    "#response = requests.get(q_url + my_city).json()\n",
    "\n",
    "for city in cities:\n",
    "    response = requests.get(q_url + city).json()\n",
    "    \n",
    "    try:\n",
    "        print(f'working on {city}')\n",
    "        lat.append(response['coord']['lat'])\n",
    "        lon.append(response['coord']['lon'])\n",
    "        temp_max.append(response['main']['temp_max'])\n",
    "        humidity.append(response['main']['humidity'])\n",
    "        wind_speed.append(response['wind']['speed'])\n",
    "        cloudy.append(response['clouds']['all'])\n",
    "        name.append(response['name'])\n",
    "        country.append(response['sys']['country'])\n",
    "        date.append(response['dt'])\n",
    "    except:\n",
    "        print(f'{city} is missing info')\n",
    "        pass\n",
    "\n"
   ]
  },
  {
   "cell_type": "code",
   "execution_count": 9,
   "metadata": {},
   "outputs": [
    {
     "name": "stdout",
     "output_type": "stream",
     "text": [
      "590\n"
     ]
    }
   ],
   "source": [
    "print(len(name))"
   ]
  },
  {
   "cell_type": "code",
   "execution_count": 10,
   "metadata": {},
   "outputs": [
    {
     "name": "stdout",
     "output_type": "stream",
     "text": [
      "590\n"
     ]
    }
   ],
   "source": [
    "print(len(lat))"
   ]
  },
  {
   "cell_type": "code",
   "execution_count": 11,
   "metadata": {},
   "outputs": [
    {
     "name": "stdout",
     "output_type": "stream",
     "text": [
      "590\n"
     ]
    }
   ],
   "source": [
    "print(len(lon))"
   ]
  },
  {
   "cell_type": "code",
   "execution_count": 12,
   "metadata": {},
   "outputs": [
    {
     "name": "stdout",
     "output_type": "stream",
     "text": [
      "590\n"
     ]
    }
   ],
   "source": [
    "print(len(temp_max))"
   ]
  },
  {
   "cell_type": "code",
   "execution_count": 13,
   "metadata": {},
   "outputs": [
    {
     "name": "stdout",
     "output_type": "stream",
     "text": [
      "590\n"
     ]
    }
   ],
   "source": [
    "print(len(date))"
   ]
  },
  {
   "cell_type": "code",
   "execution_count": 14,
   "metadata": {},
   "outputs": [
    {
     "name": "stdout",
     "output_type": "stream",
     "text": [
      "590\n"
     ]
    }
   ],
   "source": [
    "print(len(country))"
   ]
  },
  {
   "cell_type": "markdown",
   "metadata": {},
   "source": [
    "### Convert Raw Data to DataFrame\n",
    "* Export the city data into a .csv.\n",
    "* Display the DataFrame"
   ]
  },
  {
   "cell_type": "code",
   "execution_count": 15,
   "metadata": {},
   "outputs": [
    {
     "data": {
      "text/html": [
       "<div>\n",
       "<style scoped>\n",
       "    .dataframe tbody tr th:only-of-type {\n",
       "        vertical-align: middle;\n",
       "    }\n",
       "\n",
       "    .dataframe tbody tr th {\n",
       "        vertical-align: top;\n",
       "    }\n",
       "\n",
       "    .dataframe thead th {\n",
       "        text-align: right;\n",
       "    }\n",
       "</style>\n",
       "<table border=\"1\" class=\"dataframe\">\n",
       "  <thead>\n",
       "    <tr style=\"text-align: right;\">\n",
       "      <th></th>\n",
       "      <th>City</th>\n",
       "      <th>Lat</th>\n",
       "      <th>Long</th>\n",
       "      <th>Max Temp (F)</th>\n",
       "      <th>Humidity (%)</th>\n",
       "      <th>Cloudiness (%)</th>\n",
       "      <th>Windspeed (mph)</th>\n",
       "      <th>Country</th>\n",
       "      <th>Date</th>\n",
       "    </tr>\n",
       "  </thead>\n",
       "  <tbody>\n",
       "    <tr>\n",
       "      <th>0</th>\n",
       "      <td>Qaanaaq</td>\n",
       "      <td>77.4840</td>\n",
       "      <td>-69.3632</td>\n",
       "      <td>32.70</td>\n",
       "      <td>65</td>\n",
       "      <td>53</td>\n",
       "      <td>6.71</td>\n",
       "      <td>GL</td>\n",
       "      <td>1619801430</td>\n",
       "    </tr>\n",
       "    <tr>\n",
       "      <th>1</th>\n",
       "      <td>Samaipata</td>\n",
       "      <td>-18.1500</td>\n",
       "      <td>-63.8667</td>\n",
       "      <td>65.79</td>\n",
       "      <td>43</td>\n",
       "      <td>3</td>\n",
       "      <td>6.82</td>\n",
       "      <td>BO</td>\n",
       "      <td>1619801231</td>\n",
       "    </tr>\n",
       "    <tr>\n",
       "      <th>2</th>\n",
       "      <td>Lianyuan</td>\n",
       "      <td>27.6883</td>\n",
       "      <td>111.6642</td>\n",
       "      <td>69.84</td>\n",
       "      <td>66</td>\n",
       "      <td>71</td>\n",
       "      <td>3.53</td>\n",
       "      <td>CN</td>\n",
       "      <td>1619801431</td>\n",
       "    </tr>\n",
       "    <tr>\n",
       "      <th>3</th>\n",
       "      <td>Nālūt</td>\n",
       "      <td>30.3333</td>\n",
       "      <td>10.8500</td>\n",
       "      <td>99.50</td>\n",
       "      <td>11</td>\n",
       "      <td>54</td>\n",
       "      <td>15.70</td>\n",
       "      <td>LY</td>\n",
       "      <td>1619801431</td>\n",
       "    </tr>\n",
       "    <tr>\n",
       "      <th>4</th>\n",
       "      <td>Acapulco de Juárez</td>\n",
       "      <td>16.8634</td>\n",
       "      <td>-99.8901</td>\n",
       "      <td>82.40</td>\n",
       "      <td>74</td>\n",
       "      <td>90</td>\n",
       "      <td>10.36</td>\n",
       "      <td>MX</td>\n",
       "      <td>1619801431</td>\n",
       "    </tr>\n",
       "  </tbody>\n",
       "</table>\n",
       "</div>"
      ],
      "text/plain": [
       "                 City      Lat      Long  Max Temp (F)  Humidity (%)  \\\n",
       "0             Qaanaaq  77.4840  -69.3632         32.70            65   \n",
       "1           Samaipata -18.1500  -63.8667         65.79            43   \n",
       "2            Lianyuan  27.6883  111.6642         69.84            66   \n",
       "3               Nālūt  30.3333   10.8500         99.50            11   \n",
       "4  Acapulco de Juárez  16.8634  -99.8901         82.40            74   \n",
       "\n",
       "   Cloudiness (%)  Windspeed (mph) Country        Date  \n",
       "0              53             6.71      GL  1619801430  \n",
       "1               3             6.82      BO  1619801231  \n",
       "2              71             3.53      CN  1619801431  \n",
       "3              54            15.70      LY  1619801431  \n",
       "4              90            10.36      MX  1619801431  "
      ]
     },
     "execution_count": 15,
     "metadata": {},
     "output_type": "execute_result"
    }
   ],
   "source": [
    "weather_dict = {\n",
    "    \"City\": name,\n",
    "    \"Lat\": lat,\n",
    "    \"Long\": lon,\n",
    "    \"Max Temp (F)\": temp_max,\n",
    "    \"Humidity (%)\": humidity,\n",
    "    \"Cloudiness (%)\": cloudy,\n",
    "    \"Windspeed (mph)\": wind_speed,\n",
    "    \"Country\": country,\n",
    "    \"Date\": date,\n",
    "}\n",
    "weather_data = pd.DataFrame(weather_dict)\n",
    "weather_data.to_csv(output_data_file, index=False)\n",
    "weather_data.head()"
   ]
  },
  {
   "cell_type": "markdown",
   "metadata": {},
   "source": [
    "## Inspect the data and remove the cities where the humidity > 100%.\n",
    "----\n",
    "Skip this step if there are no cities that have humidity > 100%. "
   ]
  },
  {
   "cell_type": "code",
   "execution_count": 17,
   "metadata": {},
   "outputs": [
    {
     "data": {
      "text/plain": [
       "Int64Index([], dtype='int64')"
      ]
     },
     "execution_count": 17,
     "metadata": {},
     "output_type": "execute_result"
    }
   ],
   "source": [
    "#  Get the indices of cities that have humidity over 100%.\n",
    "\n",
    "weather_data[weather_data['Humidity (%)'].gt(100)].index\n"
   ]
  },
  {
   "cell_type": "code",
   "execution_count": 29,
   "metadata": {},
   "outputs": [
    {
     "name": "stdout",
     "output_type": "stream",
     "text": [
      "lower outliers 0.625\n",
      "upper outliers 34.375\n",
      "<class 'numpy.float64'>\n"
     ]
    }
   ],
   "source": [
    "# Make a new DataFrame equal to the city data to drop all humidity outliers by index.\n",
    "# Passing \"inplace=False\" will make a copy of the city_data DataFrame, which we call \"clean_city_data\".\n",
    "\n",
    "quartiles = weather_data['Humidity (%)'].quantile([.25,.5,.75])\n",
    "lowerq = quartiles[0.25]\n",
    "upperq = quartiles[0.75]\n",
    "iqr = upperq - lowerq\n",
    "\n",
    "lower_bound = lowerq - (1.5*iqr)\n",
    "upper_bound = upperq - (1.5*iqr)\n",
    "\n",
    "print(f'lower outliers {lower_bound}')\n",
    "print(f'upper outliers {upper_bound}')\n",
    "print(type(lower_bound))"
   ]
  },
  {
   "cell_type": "code",
   "execution_count": 42,
   "metadata": {},
   "outputs": [
    {
     "data": {
      "text/html": [
       "<div>\n",
       "<style scoped>\n",
       "    .dataframe tbody tr th:only-of-type {\n",
       "        vertical-align: middle;\n",
       "    }\n",
       "\n",
       "    .dataframe tbody tr th {\n",
       "        vertical-align: top;\n",
       "    }\n",
       "\n",
       "    .dataframe thead th {\n",
       "        text-align: right;\n",
       "    }\n",
       "</style>\n",
       "<table border=\"1\" class=\"dataframe\">\n",
       "  <thead>\n",
       "    <tr style=\"text-align: right;\">\n",
       "      <th></th>\n",
       "      <th>City</th>\n",
       "      <th>Lat</th>\n",
       "      <th>Long</th>\n",
       "      <th>Max Temp (F)</th>\n",
       "      <th>Humidity (%)</th>\n",
       "      <th>Cloudiness (%)</th>\n",
       "      <th>Windspeed (mph)</th>\n",
       "      <th>Country</th>\n",
       "      <th>Date</th>\n",
       "    </tr>\n",
       "  </thead>\n",
       "  <tbody>\n",
       "    <tr>\n",
       "      <th>3</th>\n",
       "      <td>Nālūt</td>\n",
       "      <td>30.3333</td>\n",
       "      <td>10.8500</td>\n",
       "      <td>99.50</td>\n",
       "      <td>11</td>\n",
       "      <td>54</td>\n",
       "      <td>15.70</td>\n",
       "      <td>LY</td>\n",
       "      <td>1619801431</td>\n",
       "    </tr>\n",
       "    <tr>\n",
       "      <th>8</th>\n",
       "      <td>Awjilah</td>\n",
       "      <td>29.1081</td>\n",
       "      <td>21.2869</td>\n",
       "      <td>97.11</td>\n",
       "      <td>8</td>\n",
       "      <td>0</td>\n",
       "      <td>9.22</td>\n",
       "      <td>LY</td>\n",
       "      <td>1619801433</td>\n",
       "    </tr>\n",
       "    <tr>\n",
       "      <th>10</th>\n",
       "      <td>Dalbandin</td>\n",
       "      <td>28.8947</td>\n",
       "      <td>64.4101</td>\n",
       "      <td>81.10</td>\n",
       "      <td>28</td>\n",
       "      <td>87</td>\n",
       "      <td>13.60</td>\n",
       "      <td>PK</td>\n",
       "      <td>1619801433</td>\n",
       "    </tr>\n",
       "    <tr>\n",
       "      <th>11</th>\n",
       "      <td>Waddān</td>\n",
       "      <td>29.1614</td>\n",
       "      <td>16.1390</td>\n",
       "      <td>100.00</td>\n",
       "      <td>6</td>\n",
       "      <td>25</td>\n",
       "      <td>14.41</td>\n",
       "      <td>LY</td>\n",
       "      <td>1619801434</td>\n",
       "    </tr>\n",
       "    <tr>\n",
       "      <th>24</th>\n",
       "      <td>Carman</td>\n",
       "      <td>49.4992</td>\n",
       "      <td>-98.0016</td>\n",
       "      <td>48.20</td>\n",
       "      <td>31</td>\n",
       "      <td>100</td>\n",
       "      <td>12.66</td>\n",
       "      <td>CA</td>\n",
       "      <td>1619801437</td>\n",
       "    </tr>\n",
       "    <tr>\n",
       "      <th>28</th>\n",
       "      <td>Jalu</td>\n",
       "      <td>29.0331</td>\n",
       "      <td>21.5482</td>\n",
       "      <td>96.96</td>\n",
       "      <td>9</td>\n",
       "      <td>0</td>\n",
       "      <td>9.51</td>\n",
       "      <td>LY</td>\n",
       "      <td>1619801439</td>\n",
       "    </tr>\n",
       "    <tr>\n",
       "      <th>58</th>\n",
       "      <td>Ponoka</td>\n",
       "      <td>52.6768</td>\n",
       "      <td>-113.5815</td>\n",
       "      <td>64.40</td>\n",
       "      <td>29</td>\n",
       "      <td>43</td>\n",
       "      <td>12.66</td>\n",
       "      <td>CA</td>\n",
       "      <td>1619801450</td>\n",
       "    </tr>\n",
       "    <tr>\n",
       "      <th>71</th>\n",
       "      <td>Cedar City</td>\n",
       "      <td>37.6775</td>\n",
       "      <td>-113.0619</td>\n",
       "      <td>70.00</td>\n",
       "      <td>27</td>\n",
       "      <td>1</td>\n",
       "      <td>2.91</td>\n",
       "      <td>US</td>\n",
       "      <td>1619801455</td>\n",
       "    </tr>\n",
       "    <tr>\n",
       "      <th>84</th>\n",
       "      <td>Maltahöhe</td>\n",
       "      <td>-24.8333</td>\n",
       "      <td>16.9833</td>\n",
       "      <td>61.84</td>\n",
       "      <td>26</td>\n",
       "      <td>0</td>\n",
       "      <td>12.66</td>\n",
       "      <td>NA</td>\n",
       "      <td>1619801459</td>\n",
       "    </tr>\n",
       "    <tr>\n",
       "      <th>88</th>\n",
       "      <td>Kalat</td>\n",
       "      <td>29.0225</td>\n",
       "      <td>66.5916</td>\n",
       "      <td>67.80</td>\n",
       "      <td>27</td>\n",
       "      <td>97</td>\n",
       "      <td>7.23</td>\n",
       "      <td>PK</td>\n",
       "      <td>1619801460</td>\n",
       "    </tr>\n",
       "    <tr>\n",
       "      <th>96</th>\n",
       "      <td>Campeche</td>\n",
       "      <td>19.0000</td>\n",
       "      <td>-90.5000</td>\n",
       "      <td>98.22</td>\n",
       "      <td>32</td>\n",
       "      <td>10</td>\n",
       "      <td>3.69</td>\n",
       "      <td>MX</td>\n",
       "      <td>1619801463</td>\n",
       "    </tr>\n",
       "    <tr>\n",
       "      <th>98</th>\n",
       "      <td>Benghazi</td>\n",
       "      <td>32.1167</td>\n",
       "      <td>20.0667</td>\n",
       "      <td>82.83</td>\n",
       "      <td>30</td>\n",
       "      <td>39</td>\n",
       "      <td>7.14</td>\n",
       "      <td>LY</td>\n",
       "      <td>1619801464</td>\n",
       "    </tr>\n",
       "    <tr>\n",
       "      <th>102</th>\n",
       "      <td>Taoudenni</td>\n",
       "      <td>22.6783</td>\n",
       "      <td>-3.9836</td>\n",
       "      <td>92.32</td>\n",
       "      <td>24</td>\n",
       "      <td>98</td>\n",
       "      <td>9.64</td>\n",
       "      <td>ML</td>\n",
       "      <td>1619801465</td>\n",
       "    </tr>\n",
       "    <tr>\n",
       "      <th>109</th>\n",
       "      <td>Aswān</td>\n",
       "      <td>24.0934</td>\n",
       "      <td>32.9070</td>\n",
       "      <td>96.87</td>\n",
       "      <td>7</td>\n",
       "      <td>0</td>\n",
       "      <td>12.08</td>\n",
       "      <td>EG</td>\n",
       "      <td>1619801468</td>\n",
       "    </tr>\n",
       "    <tr>\n",
       "      <th>111</th>\n",
       "      <td>Maracaí</td>\n",
       "      <td>-22.6106</td>\n",
       "      <td>-50.6672</td>\n",
       "      <td>82.98</td>\n",
       "      <td>33</td>\n",
       "      <td>96</td>\n",
       "      <td>9.53</td>\n",
       "      <td>BR</td>\n",
       "      <td>1619801469</td>\n",
       "    </tr>\n",
       "    <tr>\n",
       "      <th>113</th>\n",
       "      <td>Cabo San Lucas</td>\n",
       "      <td>22.8909</td>\n",
       "      <td>-109.9124</td>\n",
       "      <td>77.00</td>\n",
       "      <td>31</td>\n",
       "      <td>1</td>\n",
       "      <td>5.75</td>\n",
       "      <td>MX</td>\n",
       "      <td>1619801195</td>\n",
       "    </tr>\n",
       "    <tr>\n",
       "      <th>116</th>\n",
       "      <td>Jardim</td>\n",
       "      <td>-21.4803</td>\n",
       "      <td>-56.1381</td>\n",
       "      <td>87.69</td>\n",
       "      <td>24</td>\n",
       "      <td>1</td>\n",
       "      <td>5.03</td>\n",
       "      <td>BR</td>\n",
       "      <td>1619801470</td>\n",
       "    </tr>\n",
       "    <tr>\n",
       "      <th>123</th>\n",
       "      <td>Kontagora</td>\n",
       "      <td>10.3999</td>\n",
       "      <td>5.4695</td>\n",
       "      <td>99.32</td>\n",
       "      <td>20</td>\n",
       "      <td>68</td>\n",
       "      <td>1.88</td>\n",
       "      <td>NG</td>\n",
       "      <td>1619801473</td>\n",
       "    </tr>\n",
       "    <tr>\n",
       "      <th>134</th>\n",
       "      <td>Porto San Giorgio</td>\n",
       "      <td>43.1827</td>\n",
       "      <td>13.7934</td>\n",
       "      <td>68.00</td>\n",
       "      <td>10</td>\n",
       "      <td>56</td>\n",
       "      <td>1.99</td>\n",
       "      <td>IT</td>\n",
       "      <td>1619801477</td>\n",
       "    </tr>\n",
       "    <tr>\n",
       "      <th>152</th>\n",
       "      <td>Lincoln</td>\n",
       "      <td>40.8000</td>\n",
       "      <td>-96.6670</td>\n",
       "      <td>78.01</td>\n",
       "      <td>27</td>\n",
       "      <td>90</td>\n",
       "      <td>8.05</td>\n",
       "      <td>US</td>\n",
       "      <td>1619801343</td>\n",
       "    </tr>\n",
       "  </tbody>\n",
       "</table>\n",
       "</div>"
      ],
      "text/plain": [
       "                  City      Lat      Long  Max Temp (F)  Humidity (%)  \\\n",
       "3                Nālūt  30.3333   10.8500         99.50            11   \n",
       "8              Awjilah  29.1081   21.2869         97.11             8   \n",
       "10           Dalbandin  28.8947   64.4101         81.10            28   \n",
       "11              Waddān  29.1614   16.1390        100.00             6   \n",
       "24              Carman  49.4992  -98.0016         48.20            31   \n",
       "28                Jalu  29.0331   21.5482         96.96             9   \n",
       "58              Ponoka  52.6768 -113.5815         64.40            29   \n",
       "71          Cedar City  37.6775 -113.0619         70.00            27   \n",
       "84           Maltahöhe -24.8333   16.9833         61.84            26   \n",
       "88               Kalat  29.0225   66.5916         67.80            27   \n",
       "96            Campeche  19.0000  -90.5000         98.22            32   \n",
       "98            Benghazi  32.1167   20.0667         82.83            30   \n",
       "102          Taoudenni  22.6783   -3.9836         92.32            24   \n",
       "109              Aswān  24.0934   32.9070         96.87             7   \n",
       "111            Maracaí -22.6106  -50.6672         82.98            33   \n",
       "113     Cabo San Lucas  22.8909 -109.9124         77.00            31   \n",
       "116             Jardim -21.4803  -56.1381         87.69            24   \n",
       "123          Kontagora  10.3999    5.4695         99.32            20   \n",
       "134  Porto San Giorgio  43.1827   13.7934         68.00            10   \n",
       "152            Lincoln  40.8000  -96.6670         78.01            27   \n",
       "\n",
       "     Cloudiness (%)  Windspeed (mph) Country        Date  \n",
       "3                54            15.70      LY  1619801431  \n",
       "8                 0             9.22      LY  1619801433  \n",
       "10               87            13.60      PK  1619801433  \n",
       "11               25            14.41      LY  1619801434  \n",
       "24              100            12.66      CA  1619801437  \n",
       "28                0             9.51      LY  1619801439  \n",
       "58               43            12.66      CA  1619801450  \n",
       "71                1             2.91      US  1619801455  \n",
       "84                0            12.66      NA  1619801459  \n",
       "88               97             7.23      PK  1619801460  \n",
       "96               10             3.69      MX  1619801463  \n",
       "98               39             7.14      LY  1619801464  \n",
       "102              98             9.64      ML  1619801465  \n",
       "109               0            12.08      EG  1619801468  \n",
       "111              96             9.53      BR  1619801469  \n",
       "113               1             5.75      MX  1619801195  \n",
       "116               1             5.03      BR  1619801470  \n",
       "123              68             1.88      NG  1619801473  \n",
       "134              56             1.99      IT  1619801477  \n",
       "152              90             8.05      US  1619801343  "
      ]
     },
     "execution_count": 42,
     "metadata": {},
     "output_type": "execute_result"
    }
   ],
   "source": [
    "clean_city_data = weather_data.drop(weather_data[(weather_data['Humidity (%)'] < lower_bound) | (weather_data['Humidity (%)'] > upper_bound) ].index,inplace = False)\n",
    "\n",
    "clean_city_data.head(20)\n"
   ]
  },
  {
   "cell_type": "markdown",
   "metadata": {},
   "source": [
    "## Plotting the Data\n",
    "* Use proper labeling of the plots using plot titles (including date of analysis) and axes labels.\n",
    "* Save the plotted figures as .pngs."
   ]
  },
  {
   "cell_type": "markdown",
   "metadata": {},
   "source": [
    "## Latitude vs. Temperature Plot"
   ]
  },
  {
   "cell_type": "code",
   "execution_count": 50,
   "metadata": {
    "scrolled": true
   },
   "outputs": [
    {
     "data": {
      "image/png": "[encoded data removed]",
      "text/plain": [
       "<Figure size 432x288 with 1 Axes>"
      ]
     },
     "metadata": {
      "needs_background": "light"
     },
     "output_type": "display_data"
    }
   ],
   "source": [
    "x = weather_data['Lat']\n",
    "y = weather_data['Max Temp (F)']\n",
    "plt.title(\"City Latitude vs. Temperature (4/30/2021)\")\n",
    "plt.xlabel(\"Latitude\")\n",
    "plt.ylabel('Temperature (°F)')\n",
    "plt.scatter(x,y)\n",
    "plt.savefig(\"images/lat_v_temp.png\")\n",
    "plt.show()"
   ]
  },
  {
   "cell_type": "markdown",
   "metadata": {},
   "source": [
    "This Scatter plot shows that as Latitude gets further from zero (equator) the max temp decreases."
   ]
  },
  {
   "cell_type": "markdown",
   "metadata": {},
   "source": [
    "## Latitude vs. Humidity Plot"
   ]
  },
  {
   "cell_type": "code",
   "execution_count": 51,
   "metadata": {},
   "outputs": [
    {
     "data": {
      "image/png": "[encoded data removed]",
      "text/plain": [
       "<Figure size 432x288 with 1 Axes>"
      ]
     },
     "metadata": {
      "needs_background": "light"
     },
     "output_type": "display_data"
    }
   ],
   "source": [
    "x = weather_data['Lat']\n",
    "y = weather_data['Humidity (%)']\n",
    "plt.title(\"City Latitude vs. Humidity (4/30/2021)\")\n",
    "plt.xlabel(\"Latitude\")\n",
    "plt.ylabel('Humidity (%)')\n",
    "plt.scatter(x,y)\n",
    "plt.savefig(\"images/lat_v_humidiity.png\")\n",
    "plt.show()"
   ]
  },
  {
   "cell_type": "markdown",
   "metadata": {},
   "source": [
    "This scatter plot shows that humidity does not appear to be tied to how close the city is to the equator."
   ]
  },
  {
   "cell_type": "markdown",
   "metadata": {},
   "source": [
    "## Latitude vs. Cloudiness Plot"
   ]
  },
  {
   "cell_type": "code",
   "execution_count": 52,
   "metadata": {},
   "outputs": [
    {
     "data": {
      "image/png": "[encoded data removed]",
      "text/plain": [
       "<Figure size 432x288 with 1 Axes>"
      ]
     },
     "metadata": {
      "needs_background": "light"
     },
     "output_type": "display_data"
    }
   ],
   "source": [
    "x = weather_data['Lat']\n",
    "y = weather_data['Cloudiness (%)']\n",
    "plt.title(\"City Latitude vs. Cloudiness (4/30/2021)\")\n",
    "plt.xlabel(\"Latitude\")\n",
    "plt.ylabel('Cloudiness (%)')\n",
    "plt.scatter(x,y)\n",
    "plt.savefig(\"images/lat_v_cloudiness.png\")\n",
    "plt.show()"
   ]
  },
  {
   "cell_type": "markdown",
   "metadata": {},
   "source": [
    "This scatter plot also shows that closeness to the equator does not appear to affect the cloudiness of a city."
   ]
  },
  {
   "cell_type": "markdown",
   "metadata": {},
   "source": [
    "## Latitude vs. Wind Speed Plot"
   ]
  },
  {
   "cell_type": "code",
   "execution_count": 53,
   "metadata": {},
   "outputs": [
    {
     "data": {
      "image/png": "[encoded data removed]",
      "text/plain": [
       "<Figure size 432x288 with 1 Axes>"
      ]
     },
     "metadata": {
      "needs_background": "light"
     },
     "output_type": "display_data"
    }
   ],
   "source": [
    "x = weather_data['Lat']\n",
    "y = weather_data['Windspeed (mph)']\n",
    "plt.title(\"City Latitude vs. Wind Speed (4/30/2021)\")\n",
    "plt.xlabel(\"Latitude\")\n",
    "plt.ylabel('Wind Speed (mph)')\n",
    "plt.scatter(x,y)\n",
    "plt.savefig(\"images/lat_v_wind_speed.png\")\n",
    "plt.show()"
   ]
  },
  {
   "cell_type": "markdown",
   "metadata": {},
   "source": [
    "This Scatter plot also shows that there is no correlation between closeness to the equator and wind speed."
   ]
  },
  {
   "cell_type": "markdown",
   "metadata": {},
   "source": [
    "## Linear Regression"
   ]
  },
  {
   "cell_type": "code",
   "execution_count": 24,
   "metadata": {},
   "outputs": [],
   "source": []
  },
  {
   "cell_type": "markdown",
   "metadata": {},
   "source": [
    "####  Northern Hemisphere - Max Temp vs. Latitude Linear Regression"
   ]
  },
  {
   "cell_type": "code",
   "execution_count": 25,
   "metadata": {},
   "outputs": [
    {
     "name": "stdout",
     "output_type": "stream",
     "text": [
      "The r-value is: 0.46937863826630627\n"
     ]
    },
    {
     "data": {
      "image/png": "[encoded data removed]",
      "text/plain": [
       "<Figure size 432x288 with 1 Axes>"
      ]
     },
     "metadata": {
      "needs_background": "light"
     },
     "output_type": "display_data"
    }
   ],
   "source": []
  },
  {
   "cell_type": "markdown",
   "metadata": {},
   "source": [
    "####  Southern Hemisphere - Max Temp vs. Latitude Linear Regression"
   ]
  },
  {
   "cell_type": "code",
   "execution_count": 26,
   "metadata": {},
   "outputs": [
    {
     "name": "stdout",
     "output_type": "stream",
     "text": [
      "The r-value is: 0.6082708688906918\n"
     ]
    },
    {
     "data": {
      "image/png": "[encoded data removed]",
      "text/plain": [
       "<Figure size 432x288 with 1 Axes>"
      ]
     },
     "metadata": {
      "needs_background": "light"
     },
     "output_type": "display_data"
    }
   ],
   "source": []
  },
  {
   "cell_type": "markdown",
   "metadata": {},
   "source": [
    "####  Northern Hemisphere - Humidity (%) vs. Latitude Linear Regression"
   ]
  },
  {
   "cell_type": "code",
   "execution_count": 27,
   "metadata": {},
   "outputs": [
    {
     "name": "stdout",
     "output_type": "stream",
     "text": [
      "The r-value is: 0.000543987878808455\n"
     ]
    },
    {
     "data": {
      "image/png": "[encoded data removed]",
      "text/plain": [
       "<Figure size 432x288 with 1 Axes>"
      ]
     },
     "metadata": {
      "needs_background": "light"
     },
     "output_type": "display_data"
    }
   ],
   "source": []
  },
  {
   "cell_type": "markdown",
   "metadata": {},
   "source": [
    "####  Southern Hemisphere - Humidity (%) vs. Latitude Linear Regression"
   ]
  },
  {
   "cell_type": "code",
   "execution_count": 28,
   "metadata": {},
   "outputs": [
    {
     "name": "stdout",
     "output_type": "stream",
     "text": [
      "The r-value is: 0.014985174297345524\n"
     ]
    },
    {
     "data": {
      "image/png": "[encoded data removed]",
      "text/plain": [
       "<Figure size 432x288 with 1 Axes>"
      ]
     },
     "metadata": {
      "needs_background": "light"
     },
     "output_type": "display_data"
    }
   ],
   "source": []
  },
  {
   "cell_type": "markdown",
   "metadata": {},
   "source": [
    "####  Northern Hemisphere - Cloudiness (%) vs. Latitude Linear Regression"
   ]
  },
  {
   "cell_type": "code",
   "execution_count": 29,
   "metadata": {},
   "outputs": [
    {
     "name": "stdout",
     "output_type": "stream",
     "text": [
      "The r-value is: 0.0020898727664228514\n"
     ]
    },
    {
     "data": {
      "image/png": "[encoded data removed]",
      "text/plain": [
       "<Figure size 432x288 with 1 Axes>"
      ]
     },
     "metadata": {
      "needs_background": "light"
     },
     "output_type": "display_data"
    }
   ],
   "source": []
  },
  {
   "cell_type": "markdown",
   "metadata": {},
   "source": [
    "####  Southern Hemisphere - Cloudiness (%) vs. Latitude Linear Regression"
   ]
  },
  {
   "cell_type": "code",
   "execution_count": 30,
   "metadata": {},
   "outputs": [
    {
     "name": "stdout",
     "output_type": "stream",
     "text": [
      "The r-value is: 0.0035263772085582894\n"
     ]
    },
    {
     "data": {
      "image/png": "[encoded data removed]",
      "text/plain": [
       "<Figure size 432x288 with 1 Axes>"
      ]
     },
     "metadata": {
      "needs_background": "light"
     },
     "output_type": "display_data"
    }
   ],
   "source": []
  },
  {
   "cell_type": "markdown",
   "metadata": {},
   "source": [
    "####  Northern Hemisphere - Wind Speed (mph) vs. Latitude Linear Regression"
   ]
  },
  {
   "cell_type": "code",
   "execution_count": 31,
   "metadata": {},
   "outputs": [
    {
     "name": "stdout",
     "output_type": "stream",
     "text": [
      "The r-value is: 0.04019723576144484\n"
     ]
    },
    {
     "data": {
      "image/png": "[encoded data removed]",
      "text/plain": [
       "<Figure size 432x288 with 1 Axes>"
      ]
     },
     "metadata": {
      "needs_background": "light"
     },
     "output_type": "display_data"
    }
   ],
   "source": []
  },
  {
   "cell_type": "markdown",
   "metadata": {},
   "source": [
    "####  Southern Hemisphere - Wind Speed (mph) vs. Latitude Linear Regression"
   ]
  },
  {
   "cell_type": "code",
   "execution_count": 32,
   "metadata": {},
   "outputs": [
    {
     "name": "stdout",
     "output_type": "stream",
     "text": [
      "The r-value is: 0.017128274759839232\n"
     ]
    },
    {
     "data": {
      "image/png": "[encoded data removed]",
      "text/plain": [
       "<Figure size 432x288 with 1 Axes>"
      ]
     },
     "metadata": {
      "needs_background": "light"
     },
     "output_type": "display_data"
    }
   ],
   "source": []
  },
  {
   "cell_type": "code",
   "execution_count": null,
   "metadata": {},
   "outputs": [],
   "source": []
  }
 ],
 "metadata": {
  "anaconda-cloud": {},
  "kernel_info": {
   "name": "python3"
  },
  "kernelspec": {
   "display_name": "Python 3",
   "language": "python",
   "name": "python3"
  },
  "language_info": {
   "codemirror_mode": {
    "name": "ipython",
    "version": 3
   },
   "file_extension": ".py",
   "mimetype": "text/x-python",
   "name": "python",
   "nbconvert_exporter": "python",
   "pygments_lexer": "ipython3",
   "version": "3.8.5"
  },
  "latex_envs": {
   "LaTeX_envs_menu_present": true,
   "autoclose": false,
   "autocomplete": true,
   "bibliofile": "biblio.bib",
   "cite_by": "apalike",
   "current_citInitial": 1,
   "eqLabelWithNumbers": true,
   "eqNumInitial": 1,
   "hotkeys": {
    "equation": "Ctrl-E",
    "itemize": "Ctrl-I"
   },
   "labels_anchors": false,
   "latex_user_defs": false,
   "report_style_numbering": false,
   "user_envs_cfg": false
  },
  "nteract": {
   "version": "0.12.3"
  }
 },
 "nbformat": 4,
 "nbformat_minor": 4
}
