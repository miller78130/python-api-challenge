{
 "cells": [
  {
   "cell_type": "markdown",
   "metadata": {},
   "source": [
    "# VacationPy\n",
    "----\n",
    "\n",
    "#### Note\n",
    "* Keep an eye on your API usage. Use https://developers.google.com/maps/reporting/gmp-reporting as reference for how to monitor your usage and billing.\n",
    "\n",
    "* Instructions have been included for each segment. You do not have to follow them exactly, but they are included to help you think through the steps."
   ]
  },
  {
   "cell_type": "code",
   "execution_count": 1,
   "metadata": {},
   "outputs": [],
   "source": [
    "# Dependencies and Setup\n",
    "import matplotlib.pyplot as plt\n",
    "import pandas as pd\n",
    "import numpy as np\n",
    "import requests\n",
    "import gmaps\n",
    "import os\n",
    "\n",
    "# Import API key\n",
    "from config import gkey"
   ]
  },
  {
   "cell_type": "markdown",
   "metadata": {},
   "source": [
    "### Store Part I results into DataFrame\n",
    "* Load the csv exported in Part I to a DataFrame"
   ]
  },
  {
   "cell_type": "code",
   "execution_count": 2,
   "metadata": {},
   "outputs": [
    {
     "data": {
      "text/html": [
       "<div>\n",
       "<style scoped>\n",
       "    .dataframe tbody tr th:only-of-type {\n",
       "        vertical-align: middle;\n",
       "    }\n",
       "\n",
       "    .dataframe tbody tr th {\n",
       "        vertical-align: top;\n",
       "    }\n",
       "\n",
       "    .dataframe thead th {\n",
       "        text-align: right;\n",
       "    }\n",
       "</style>\n",
       "<table border=\"1\" class=\"dataframe\">\n",
       "  <thead>\n",
       "    <tr style=\"text-align: right;\">\n",
       "      <th></th>\n",
       "      <th>City</th>\n",
       "      <th>Lat</th>\n",
       "      <th>Long</th>\n",
       "      <th>Max Temp (F)</th>\n",
       "      <th>Humidity (%)</th>\n",
       "      <th>Cloudiness (%)</th>\n",
       "      <th>Windspeed (mph)</th>\n",
       "      <th>Country</th>\n",
       "      <th>Date</th>\n",
       "    </tr>\n",
       "  </thead>\n",
       "  <tbody>\n",
       "    <tr>\n",
       "      <th>0</th>\n",
       "      <td>Qaanaaq</td>\n",
       "      <td>77.4840</td>\n",
       "      <td>-69.3632</td>\n",
       "      <td>32.70</td>\n",
       "      <td>65</td>\n",
       "      <td>53</td>\n",
       "      <td>6.71</td>\n",
       "      <td>GL</td>\n",
       "      <td>1619801430</td>\n",
       "    </tr>\n",
       "    <tr>\n",
       "      <th>1</th>\n",
       "      <td>Samaipata</td>\n",
       "      <td>-18.1500</td>\n",
       "      <td>-63.8667</td>\n",
       "      <td>65.79</td>\n",
       "      <td>43</td>\n",
       "      <td>3</td>\n",
       "      <td>6.82</td>\n",
       "      <td>BO</td>\n",
       "      <td>1619801231</td>\n",
       "    </tr>\n",
       "    <tr>\n",
       "      <th>2</th>\n",
       "      <td>Lianyuan</td>\n",
       "      <td>27.6883</td>\n",
       "      <td>111.6642</td>\n",
       "      <td>69.84</td>\n",
       "      <td>66</td>\n",
       "      <td>71</td>\n",
       "      <td>3.53</td>\n",
       "      <td>CN</td>\n",
       "      <td>1619801431</td>\n",
       "    </tr>\n",
       "    <tr>\n",
       "      <th>3</th>\n",
       "      <td>Nālūt</td>\n",
       "      <td>30.3333</td>\n",
       "      <td>10.8500</td>\n",
       "      <td>99.50</td>\n",
       "      <td>11</td>\n",
       "      <td>54</td>\n",
       "      <td>15.70</td>\n",
       "      <td>LY</td>\n",
       "      <td>1619801431</td>\n",
       "    </tr>\n",
       "    <tr>\n",
       "      <th>4</th>\n",
       "      <td>Acapulco de Juárez</td>\n",
       "      <td>16.8634</td>\n",
       "      <td>-99.8901</td>\n",
       "      <td>82.40</td>\n",
       "      <td>74</td>\n",
       "      <td>90</td>\n",
       "      <td>10.36</td>\n",
       "      <td>MX</td>\n",
       "      <td>1619801431</td>\n",
       "    </tr>\n",
       "  </tbody>\n",
       "</table>\n",
       "</div>"
      ],
      "text/plain": [
       "                 City      Lat      Long  Max Temp (F)  Humidity (%)  \\\n",
       "0             Qaanaaq  77.4840  -69.3632         32.70            65   \n",
       "1           Samaipata -18.1500  -63.8667         65.79            43   \n",
       "2            Lianyuan  27.6883  111.6642         69.84            66   \n",
       "3               Nālūt  30.3333   10.8500         99.50            11   \n",
       "4  Acapulco de Juárez  16.8634  -99.8901         82.40            74   \n",
       "\n",
       "   Cloudiness (%)  Windspeed (mph) Country        Date  \n",
       "0              53             6.71      GL  1619801430  \n",
       "1               3             6.82      BO  1619801231  \n",
       "2              71             3.53      CN  1619801431  \n",
       "3              54            15.70      LY  1619801431  \n",
       "4              90            10.36      MX  1619801431  "
      ]
     },
     "execution_count": 2,
     "metadata": {},
     "output_type": "execute_result"
    }
   ],
   "source": [
    "data = \"../Weatherpy/output_data/cities.csv\"\n",
    "city_data = pd.read_csv(data)\n",
    "city_data.head()"
   ]
  },
  {
   "cell_type": "markdown",
   "metadata": {},
   "source": [
    "### Humidity Heatmap\n",
    "* Configure gmaps.\n",
    "* Use the Lat and Lng as locations and Humidity as the weight.\n",
    "* Add Heatmap layer to map."
   ]
  },
  {
   "cell_type": "code",
   "execution_count": 3,
   "metadata": {},
   "outputs": [],
   "source": [
    "gmaps.configure(api_key=gkey)\n",
    "locations = city_data[[\"Lat\",\"Long\"]].astype(float)\n",
    "humidity = city_data[\"Humidity (%)\"].astype(float)\n"
   ]
  },
  {
   "cell_type": "code",
   "execution_count": 23,
   "metadata": {},
   "outputs": [],
   "source": [
    "fig = gmaps.figure()\n",
    "\n",
    "heat_layer = gmaps.heatmap_layer(locations, weights=humidity,\n",
    "                                dissipating=False, max_intensity=100,\n",
    "                                point_radius=2)\n"
   ]
  },
  {
   "cell_type": "code",
   "execution_count": 24,
   "metadata": {},
   "outputs": [
    {
     "data": {
      "application/vnd.jupyter.widget-view+json": {
       "model_id": "57b22a15aa024fee9abda4e078db32c1",
       "version_major": 2,
       "version_minor": 0
      },
      "text/plain": [
       "Figure(layout=FigureLayout(height='420px'))"
      ]
     },
     "metadata": {},
     "output_type": "display_data"
    }
   ],
   "source": [
    "fig.add_layer(heat_layer)\n",
    "\n",
    "fig"
   ]
  },
  {
   "cell_type": "markdown",
   "metadata": {},
   "source": [
    "### Create new DataFrame fitting weather criteria\n",
    "* Narrow down the cities to fit weather conditions.\n",
    "* Drop any rows will null values."
   ]
  },
  {
   "cell_type": "code",
   "execution_count": 46,
   "metadata": {},
   "outputs": [
    {
     "name": "stdout",
     "output_type": "stream",
     "text": [
      "               City      Lat      Long  Max Temp (F)  Humidity (%)  \\\n",
      "64   Saint-Philippe -21.3585   55.7679         77.00            78   \n",
      "113  Cabo San Lucas  22.8909 -109.9124         77.00            31   \n",
      "177  Guerrero Negro  27.9769 -114.0611         78.19            37   \n",
      "272     San Quintín  30.4833 -115.9500         75.97            41   \n",
      "342        Mahanoro -19.9000   48.8000         74.44            87   \n",
      "381    Saint-Pierre -21.3393   55.4781         77.00            78   \n",
      "390          Noumea -22.2763  166.4572         75.00            73   \n",
      "454           Korla  41.7597   86.1469         75.43            16   \n",
      "489         Kāzerūn  29.6195   51.6541         74.86            23   \n",
      "\n",
      "     Cloudiness (%)  Windspeed (mph) Country  \n",
      "64                0             4.61      RE  \n",
      "113               1             5.75      MX  \n",
      "177               0             8.90      MX  \n",
      "272               0             9.24      MX  \n",
      "342               1             1.01      MG  \n",
      "381               0             4.61      RE  \n",
      "390               0             2.30      NC  \n",
      "454               0             3.80      CN  \n",
      "489               1             2.53      IR  \n"
     ]
    }
   ],
   "source": [
    "good_weather = city_data.drop(city_data[(city_data['Max Temp (F)'] >= 80) |\n",
    "                                        (city_data['Max Temp (F)'] < 74)].index, inplace=False)\n",
    "better_weather = good_weather.drop(good_weather[(good_weather['Windspeed (mph)'] >= 10)].index, inplace=False)\n",
    "best_weather = better_weather.drop(better_weather[(better_weather['Cloudiness (%)'] >= 5)].index, inplace=False)\n",
    "best_weather.drop('Date',1,inplace=True)\n",
    "print(best_weather)"
   ]
  },
  {
   "cell_type": "markdown",
   "metadata": {},
   "source": [
    "### Hotel Map\n",
    "* Store into variable named `hotel_df`.\n",
    "* Add a \"Hotel Name\" column to the DataFrame.\n",
    "* Set parameters to search for hotels with 5000 meters.\n",
    "* Hit the Google Places API for each city's coordinates.\n",
    "* Store the first Hotel result into the DataFrame.\n",
    "* Plot markers on top of the heatmap."
   ]
  },
  {
   "cell_type": "code",
   "execution_count": 47,
   "metadata": {},
   "outputs": [
    {
     "name": "stdout",
     "output_type": "stream",
     "text": [
      "Missing data, skipping\n",
      "Missing data, skipping\n",
      "Missing data, skipping\n",
      "Missing data, skipping\n",
      "Missing data, skipping\n",
      "Missing data, skipping\n",
      "Missing data, skipping\n",
      "Missing data, skipping\n",
      "Missing data, skipping\n",
      "Missing data, skipping\n",
      "Missing data, skipping\n",
      "Missing data, skipping\n"
     ]
    }
   ],
   "source": [
    "best_weather[\"Hotel\"] = (\"No Results\",\"No Results\",\"No Results\",\"No Results\",\n",
    "                         \"No Results\",\"No Results\",\"No Results\",\"No Results\",\"No Results\")\n",
    "params = {\n",
    "    \"radius\": 5000,\n",
    "    \"types\": \"hotel\",\n",
    "    \"keyword\": \"hotel\",\n",
    "    \"key\": gkey\n",
    "}\n",
    "\n",
    "for index, row in better_weather.iterrows():\n",
    "    lat = row[\"Lat\"]\n",
    "    lng = row[\"Long\"]\n",
    "    params['location']= f\"{lat},{lng}\"\n",
    "    \n",
    "    base_url = \"https://maps.googleapis.com/maps/api/place/nearbysearch/json\"\n",
    "    \n",
    "    hotels = requests.get(base_url, params=params)\n",
    "    \n",
    "    hotels = hotels.json()\n",
    "    \n",
    "    try:\n",
    "        best_weather.loc[index, \"Hotel\"] = hotels[\"results\"][0][\"name\"]\n",
    "\n",
    "    except(KeyError, IndexError):\n",
    "        print(\"Missing data, skipping\")\n",
    "\n",
    "\n",
    "\n"
   ]
  },
  {
   "cell_type": "code",
   "execution_count": 49,
   "metadata": {},
   "outputs": [
    {
     "data": {
      "text/html": [
       "<div>\n",
       "<style scoped>\n",
       "    .dataframe tbody tr th:only-of-type {\n",
       "        vertical-align: middle;\n",
       "    }\n",
       "\n",
       "    .dataframe tbody tr th {\n",
       "        vertical-align: top;\n",
       "    }\n",
       "\n",
       "    .dataframe thead th {\n",
       "        text-align: right;\n",
       "    }\n",
       "</style>\n",
       "<table border=\"1\" class=\"dataframe\">\n",
       "  <thead>\n",
       "    <tr style=\"text-align: right;\">\n",
       "      <th></th>\n",
       "      <th>City</th>\n",
       "      <th>Lat</th>\n",
       "      <th>Long</th>\n",
       "      <th>Max Temp (F)</th>\n",
       "      <th>Humidity (%)</th>\n",
       "      <th>Cloudiness (%)</th>\n",
       "      <th>Windspeed (mph)</th>\n",
       "      <th>Country</th>\n",
       "      <th>Hotel</th>\n",
       "    </tr>\n",
       "  </thead>\n",
       "  <tbody>\n",
       "    <tr>\n",
       "      <th>64</th>\n",
       "      <td>Saint-Philippe</td>\n",
       "      <td>-21.3585</td>\n",
       "      <td>55.7679</td>\n",
       "      <td>77.00</td>\n",
       "      <td>78.0</td>\n",
       "      <td>0.0</td>\n",
       "      <td>4.61</td>\n",
       "      <td>RE</td>\n",
       "      <td>Les Embruns Du Baril</td>\n",
       "    </tr>\n",
       "    <tr>\n",
       "      <th>113</th>\n",
       "      <td>Cabo San Lucas</td>\n",
       "      <td>22.8909</td>\n",
       "      <td>-109.9124</td>\n",
       "      <td>77.00</td>\n",
       "      <td>31.0</td>\n",
       "      <td>1.0</td>\n",
       "      <td>5.75</td>\n",
       "      <td>MX</td>\n",
       "      <td>Bahia Hotel &amp; Beach House</td>\n",
       "    </tr>\n",
       "    <tr>\n",
       "      <th>177</th>\n",
       "      <td>Guerrero Negro</td>\n",
       "      <td>27.9769</td>\n",
       "      <td>-114.0611</td>\n",
       "      <td>78.19</td>\n",
       "      <td>37.0</td>\n",
       "      <td>0.0</td>\n",
       "      <td>8.90</td>\n",
       "      <td>MX</td>\n",
       "      <td>Hotel Los Caracoles</td>\n",
       "    </tr>\n",
       "    <tr>\n",
       "      <th>272</th>\n",
       "      <td>San Quintín</td>\n",
       "      <td>30.4833</td>\n",
       "      <td>-115.9500</td>\n",
       "      <td>75.97</td>\n",
       "      <td>41.0</td>\n",
       "      <td>0.0</td>\n",
       "      <td>9.24</td>\n",
       "      <td>MX</td>\n",
       "      <td>Don Eddie's Landing</td>\n",
       "    </tr>\n",
       "    <tr>\n",
       "      <th>342</th>\n",
       "      <td>Mahanoro</td>\n",
       "      <td>-19.9000</td>\n",
       "      <td>48.8000</td>\n",
       "      <td>74.44</td>\n",
       "      <td>87.0</td>\n",
       "      <td>1.0</td>\n",
       "      <td>1.01</td>\n",
       "      <td>MG</td>\n",
       "      <td>Bungalow le Prestige</td>\n",
       "    </tr>\n",
       "    <tr>\n",
       "      <th>381</th>\n",
       "      <td>Saint-Pierre</td>\n",
       "      <td>-21.3393</td>\n",
       "      <td>55.4781</td>\n",
       "      <td>77.00</td>\n",
       "      <td>78.0</td>\n",
       "      <td>0.0</td>\n",
       "      <td>4.61</td>\n",
       "      <td>RE</td>\n",
       "      <td>Hôtel le Saint-Pierre</td>\n",
       "    </tr>\n",
       "    <tr>\n",
       "      <th>390</th>\n",
       "      <td>Noumea</td>\n",
       "      <td>-22.2763</td>\n",
       "      <td>166.4572</td>\n",
       "      <td>75.00</td>\n",
       "      <td>73.0</td>\n",
       "      <td>0.0</td>\n",
       "      <td>2.30</td>\n",
       "      <td>NC</td>\n",
       "      <td>Hilton Noumea La Promenade Residences</td>\n",
       "    </tr>\n",
       "    <tr>\n",
       "      <th>454</th>\n",
       "      <td>Korla</td>\n",
       "      <td>41.7597</td>\n",
       "      <td>86.1469</td>\n",
       "      <td>75.43</td>\n",
       "      <td>16.0</td>\n",
       "      <td>0.0</td>\n",
       "      <td>3.80</td>\n",
       "      <td>CN</td>\n",
       "      <td>The Garden Hotel Korla</td>\n",
       "    </tr>\n",
       "    <tr>\n",
       "      <th>489</th>\n",
       "      <td>Kāzerūn</td>\n",
       "      <td>29.6195</td>\n",
       "      <td>51.6541</td>\n",
       "      <td>74.86</td>\n",
       "      <td>23.0</td>\n",
       "      <td>1.0</td>\n",
       "      <td>2.53</td>\n",
       "      <td>IR</td>\n",
       "      <td>Bishapour Hotel</td>\n",
       "    </tr>\n",
       "  </tbody>\n",
       "</table>\n",
       "</div>"
      ],
      "text/plain": [
       "               City      Lat      Long  Max Temp (F)  Humidity (%)  \\\n",
       "64   Saint-Philippe -21.3585   55.7679         77.00          78.0   \n",
       "113  Cabo San Lucas  22.8909 -109.9124         77.00          31.0   \n",
       "177  Guerrero Negro  27.9769 -114.0611         78.19          37.0   \n",
       "272     San Quintín  30.4833 -115.9500         75.97          41.0   \n",
       "342        Mahanoro -19.9000   48.8000         74.44          87.0   \n",
       "381    Saint-Pierre -21.3393   55.4781         77.00          78.0   \n",
       "390          Noumea -22.2763  166.4572         75.00          73.0   \n",
       "454           Korla  41.7597   86.1469         75.43          16.0   \n",
       "489         Kāzerūn  29.6195   51.6541         74.86          23.0   \n",
       "\n",
       "     Cloudiness (%)  Windspeed (mph) Country  \\\n",
       "64              0.0             4.61      RE   \n",
       "113             1.0             5.75      MX   \n",
       "177             0.0             8.90      MX   \n",
       "272             0.0             9.24      MX   \n",
       "342             1.0             1.01      MG   \n",
       "381             0.0             4.61      RE   \n",
       "390             0.0             2.30      NC   \n",
       "454             0.0             3.80      CN   \n",
       "489             1.0             2.53      IR   \n",
       "\n",
       "                                     Hotel  \n",
       "64                    Les Embruns Du Baril  \n",
       "113              Bahia Hotel & Beach House  \n",
       "177                    Hotel Los Caracoles  \n",
       "272                    Don Eddie's Landing  \n",
       "342                   Bungalow le Prestige  \n",
       "381                  Hôtel le Saint-Pierre  \n",
       "390  Hilton Noumea La Promenade Residences  \n",
       "454                 The Garden Hotel Korla  \n",
       "489                        Bishapour Hotel  "
      ]
     },
     "execution_count": 49,
     "metadata": {},
     "output_type": "execute_result"
    }
   ],
   "source": [
    "best_weather.head(9)"
   ]
  },
  {
   "cell_type": "code",
   "execution_count": 50,
   "metadata": {},
   "outputs": [
    {
     "ename": "AttributeError",
     "evalue": "'dict' object has no attribute 'iterrows'",
     "output_type": "error",
     "traceback": [
      "\u001b[1;31m---------------------------------------------------------------------------\u001b[0m",
      "\u001b[1;31mAttributeError\u001b[0m                            Traceback (most recent call last)",
      "\u001b[1;32m<ipython-input-50-464b2b3e63ad>\u001b[0m in \u001b[0;36m<module>\u001b[1;34m\u001b[0m\n\u001b[0;32m     11\u001b[0m \u001b[1;31m# Store the DataFrame Row\u001b[0m\u001b[1;33m\u001b[0m\u001b[1;33m\u001b[0m\u001b[1;33m\u001b[0m\u001b[0m\n\u001b[0;32m     12\u001b[0m \u001b[1;31m# NOTE: be sure to update with your DataFrame name\u001b[0m\u001b[1;33m\u001b[0m\u001b[1;33m\u001b[0m\u001b[1;33m\u001b[0m\u001b[0m\n\u001b[1;32m---> 13\u001b[1;33m \u001b[0mhotel_info\u001b[0m \u001b[1;33m=\u001b[0m \u001b[1;33m[\u001b[0m\u001b[0minfo_box_template\u001b[0m\u001b[1;33m.\u001b[0m\u001b[0mformat\u001b[0m\u001b[1;33m(\u001b[0m\u001b[1;33m**\u001b[0m\u001b[0mrow\u001b[0m\u001b[1;33m)\u001b[0m \u001b[1;32mfor\u001b[0m \u001b[0mindex\u001b[0m\u001b[1;33m,\u001b[0m \u001b[0mrow\u001b[0m \u001b[1;32min\u001b[0m \u001b[0mhotel_df\u001b[0m\u001b[1;33m.\u001b[0m\u001b[0miterrows\u001b[0m\u001b[1;33m(\u001b[0m\u001b[1;33m)\u001b[0m\u001b[1;33m]\u001b[0m\u001b[1;33m\u001b[0m\u001b[1;33m\u001b[0m\u001b[0m\n\u001b[0m\u001b[0;32m     14\u001b[0m \u001b[0mlocations\u001b[0m \u001b[1;33m=\u001b[0m \u001b[0mhotel_df\u001b[0m\u001b[1;33m[\u001b[0m\u001b[1;33m[\u001b[0m\u001b[1;34m\"Lat\"\u001b[0m\u001b[1;33m,\u001b[0m \u001b[1;34m\"Lng\"\u001b[0m\u001b[1;33m]\u001b[0m\u001b[1;33m]\u001b[0m\u001b[1;33m\u001b[0m\u001b[1;33m\u001b[0m\u001b[0m\n",
      "\u001b[1;31mAttributeError\u001b[0m: 'dict' object has no attribute 'iterrows'"
     ]
    }
   ],
   "source": [
    "# NOTE: Do not change any of the code in this cell\n",
    "\n",
    "# Using the template add the hotel marks to the heatmap\n",
    "info_box_template = \"\"\"\n",
    "<dl>\n",
    "<dt>Name</dt><dd>{Hotel Name}</dd>\n",
    "<dt>City</dt><dd>{City}</dd>\n",
    "<dt>Country</dt><dd>{Country}</dd>\n",
    "</dl>\n",
    "\"\"\"\n",
    "# Store the DataFrame Row\n",
    "# NOTE: be sure to update with your DataFrame name\n",
    "hotel_info = [info_box_template.format(**row) for index, row in hotel_df.iterrows()]\n",
    "locations = hotel_df[[\"Lat\", \"Lng\"]]"
   ]
  },
  {
   "cell_type": "code",
   "execution_count": null,
   "metadata": {},
   "outputs": [],
   "source": [
    "# Add marker layer ontop of heat map\n",
    "\n",
    "\n",
    "# Display figure\n"
   ]
  },
  {
   "cell_type": "code",
   "execution_count": null,
   "metadata": {},
   "outputs": [],
   "source": []
  }
 ],
 "metadata": {
  "kernelspec": {
   "display_name": "Python 3",
   "language": "python",
   "name": "python3"
  },
  "language_info": {
   "codemirror_mode": {
    "name": "ipython",
    "version": 3
   },
   "file_extension": ".py",
   "mimetype": "text/x-python",
   "name": "python",
   "nbconvert_exporter": "python",
   "pygments_lexer": "ipython3",
   "version": "3.8.5"
  },
  "latex_envs": {
   "LaTeX_envs_menu_present": true,
   "autoclose": false,
   "autocomplete": true,
   "bibliofile": "biblio.bib",
   "cite_by": "apalike",
   "current_citInitial": 1,
   "eqLabelWithNumbers": true,
   "eqNumInitial": 1,
   "hotkeys": {
    "equation": "Ctrl-E",
    "itemize": "Ctrl-I"
   },
   "labels_anchors": false,
   "latex_user_defs": false,
   "report_style_numbering": false,
   "user_envs_cfg": false
  }
 },
 "nbformat": 4,
 "nbformat_minor": 4
}
